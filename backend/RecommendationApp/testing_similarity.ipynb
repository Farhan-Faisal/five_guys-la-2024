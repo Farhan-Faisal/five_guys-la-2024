{
 "cells": [
  {
   "cell_type": "code",
   "execution_count": 1,
   "metadata": {},
   "outputs": [
    {
     "name": "stderr",
     "output_type": "stream",
     "text": [
      "[nltk_data] Downloading package punkt to /Users/JLY/nltk_data...\n",
      "[nltk_data]   Package punkt is already up-to-date!\n",
      "[nltk_data] Downloading package wordnet to /Users/JLY/nltk_data...\n",
      "[nltk_data]   Package wordnet is already up-to-date!\n",
      "[nltk_data] Downloading package omw-1.4 to /Users/JLY/nltk_data...\n",
      "[nltk_data]   Package omw-1.4 is already up-to-date!\n",
      "[nltk_data] Downloading package stopwords to /Users/JLY/nltk_data...\n",
      "[nltk_data]   Unzipping corpora/stopwords.zip.\n"
     ]
    }
   ],
   "source": [
    "from similarity_retrival import PostSimilarityFinder"
   ]
  },
  {
   "cell_type": "code",
   "execution_count": 4,
   "metadata": {},
   "outputs": [
    {
     "name": "stdout",
     "output_type": "stream",
     "text": [
      "Loaded 12 documents from lecture_notes.txt.\n"
     ]
    }
   ],
   "source": [
    "similarity_finder = PostSimilarityFinder(lecture_doc_path='lecture_notes.txt')"
   ]
  },
  {
   "cell_type": "code",
   "execution_count": 12,
   "metadata": {},
   "outputs": [],
   "source": [
    "request_input_post = 'i like ketchup'\n",
    "\n",
    "top_n = 3\n"
   ]
  },
  {
   "cell_type": "code",
   "execution_count": 15,
   "metadata": {},
   "outputs": [],
   "source": [
    "similar = similarity_finder.find_similar_posts(\n",
    "        input_post=request_input_post,\n",
    "        top_n=top_n,\n",
    "    )\n",
    "\n",
    "similar_posts = [{\"post\": post, \"score\": score} for post, score in similar]"
   ]
  },
  {
   "cell_type": "code",
   "execution_count": 16,
   "metadata": {},
   "outputs": [
    {
     "data": {
      "text/plain": [
       "[{'post': 'Mustard is most often used at the table as a condiment for cold and hot meats. It is also used in dressings, marinades, and as an emulsifier in sauces like Hollandaise. In East Indian cuisine, mustard is used to add flavor to dishes like curries. Mustard can also stabilize oil-and-water mixtures.',\n",
       "  'score': 1.523997731039773},\n",
       " {'post': 'Mustard oil can be extracted from the seeds, and the flavors of mustard vary due to different compounds like allyl isothiocyanate, which is responsible for its sharp, pungent taste. Mustard condiments also vary based on additional ingredients, such as turmeric for yellow color or vinegar for acidity.',\n",
       "  'score': 1.1117121987635221},\n",
       " {'post': \"Mustard has also been combined with fruit since the 14th century in Italy, creating fruit mustards like mostarda di frutta. Other mustard types include honey mustard, hot mustard (prepared to enhance mustard's natural heat), hot pepper mustard, and spirit mustards made with distilled alcohol. Whole-grain mustard leaves mustard seeds whole, creating a textured condiment.\",\n",
       "  'score': 0.9338758842765937}]"
      ]
     },
     "execution_count": 16,
     "metadata": {},
     "output_type": "execute_result"
    }
   ],
   "source": [
    "similar_posts"
   ]
  },
  {
   "cell_type": "code",
   "execution_count": null,
   "metadata": {},
   "outputs": [],
   "source": []
  }
 ],
 "metadata": {
  "kernelspec": {
   "display_name": "base",
   "language": "python",
   "name": "python3"
  },
  "language_info": {
   "codemirror_mode": {
    "name": "ipython",
    "version": 3
   },
   "file_extension": ".py",
   "mimetype": "text/x-python",
   "name": "python",
   "nbconvert_exporter": "python",
   "pygments_lexer": "ipython3",
   "version": "3.11.9"
  }
 },
 "nbformat": 4,
 "nbformat_minor": 2
}
