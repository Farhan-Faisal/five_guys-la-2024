{
 "cells": [
  {
   "cell_type": "code",
   "execution_count": 1,
   "metadata": {},
   "outputs": [
    {
     "name": "stderr",
     "output_type": "stream",
     "text": [
      "[nltk_data] Downloading package punkt to /Users/farhan/nltk_data...\n",
      "[nltk_data]   Package punkt is already up-to-date!\n",
      "[nltk_data] Downloading package wordnet to /Users/farhan/nltk_data...\n",
      "[nltk_data]   Package wordnet is already up-to-date!\n",
      "[nltk_data] Downloading package omw-1.4 to /Users/farhan/nltk_data...\n",
      "[nltk_data]   Package omw-1.4 is already up-to-date!\n",
      "[nltk_data] Downloading package stopwords to\n",
      "[nltk_data]     /Users/farhan/nltk_data...\n",
      "[nltk_data]   Package stopwords is already up-to-date!\n"
     ]
    }
   ],
   "source": [
    "from similarity_retrival import PostSimilarityFinder"
   ]
  },
  {
   "cell_type": "code",
   "execution_count": 5,
   "metadata": {},
   "outputs": [
    {
     "name": "stderr",
     "output_type": "stream",
     "text": [
      "[nltk_data] Downloading package punkt_tab to\n",
      "[nltk_data]     /Users/farhan/nltk_data...\n",
      "[nltk_data]   Unzipping tokenizers/punkt_tab.zip.\n"
     ]
    },
    {
     "data": {
      "text/plain": [
       "True"
      ]
     },
     "execution_count": 5,
     "metadata": {},
     "output_type": "execute_result"
    }
   ],
   "source": [
    "import nltk\n",
    "nltk.download('punkt_tab')"
   ]
  },
  {
   "cell_type": "code",
   "execution_count": 7,
   "metadata": {},
   "outputs": [
    {
     "name": "stdout",
     "output_type": "stream",
     "text": [
      "Loaded 12 documents from ./lecture_notes.txt.\n"
     ]
    }
   ],
   "source": [
    "similarity_finder = PostSimilarityFinder(lecture_doc_path='./lecture_notes.txt')"
   ]
  },
  {
   "cell_type": "code",
   "execution_count": 8,
   "metadata": {},
   "outputs": [],
   "source": [
    "request_input_post = 'i like ketchup'\n",
    "\n",
    "top_n = 3\n"
   ]
  },
  {
   "cell_type": "code",
   "execution_count": 9,
   "metadata": {},
   "outputs": [],
   "source": [
    "similar = similarity_finder.find_similar_posts(\n",
    "        input_post=request_input_post,\n",
    "        top_n=top_n,\n",
    "    )\n",
    "\n",
    "similar_posts = [{\"post\": post, \"score\": score} for post, score in similar]"
   ]
  },
  {
   "cell_type": "code",
   "execution_count": 10,
   "metadata": {},
   "outputs": [
    {
     "data": {
      "text/plain": [
       "[{'post': 'Mustard is most often used at the table as a condiment for cold and hot meats. It is also used in dressings, marinades, and as an emulsifier in sauces like Hollandaise. In East Indian cuisine, mustard is used to add flavor to dishes like curries. Mustard can also stabilize oil-and-water mixtures.',\n",
       "  'score': np.float64(1.523997731039773)},\n",
       " {'post': 'Mustard oil can be extracted from the seeds, and the flavors of mustard vary due to different compounds like allyl isothiocyanate, which is responsible for its sharp, pungent taste. Mustard condiments also vary based on additional ingredients, such as turmeric for yellow color or vinegar for acidity.',\n",
       "  'score': np.float64(1.1117121987635221)},\n",
       " {'post': \"Mustard has also been combined with fruit since the 14th century in Italy, creating fruit mustards like mostarda di frutta. Other mustard types include honey mustard, hot mustard (prepared to enhance mustard's natural heat), hot pepper mustard, and spirit mustards made with distilled alcohol. Whole-grain mustard leaves mustard seeds whole, creating a textured condiment.\",\n",
       "  'score': np.float64(0.9338758842765937)}]"
      ]
     },
     "execution_count": 10,
     "metadata": {},
     "output_type": "execute_result"
    }
   ],
   "source": [
    "similar_posts"
   ]
  },
  {
   "cell_type": "code",
   "execution_count": null,
   "metadata": {},
   "outputs": [],
   "source": []
  },
  {
   "cell_type": "code",
   "execution_count": null,
   "metadata": {},
   "outputs": [],
   "source": []
  },
  {
   "cell_type": "code",
   "execution_count": null,
   "metadata": {},
   "outputs": [],
   "source": []
  },
  {
   "cell_type": "code",
   "execution_count": null,
   "metadata": {},
   "outputs": [],
   "source": []
  }
 ],
 "metadata": {
  "kernelspec": {
   "display_name": "Python 3 (ipykernel)",
   "language": "python",
   "name": "python3"
  },
  "language_info": {
   "codemirror_mode": {
    "name": "ipython",
    "version": 3
   },
   "file_extension": ".py",
   "mimetype": "text/x-python",
   "name": "python",
   "nbconvert_exporter": "python",
   "pygments_lexer": "ipython3",
   "version": "3.9.20"
  }
 },
 "nbformat": 4,
 "nbformat_minor": 4
}
