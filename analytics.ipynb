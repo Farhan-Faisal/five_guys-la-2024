{
 "cells": [
  {
   "cell_type": "code",
   "execution_count": 16,
   "id": "da15ec3a-752e-4049-8af6-b4ef4bb0a9fb",
   "metadata": {},
   "outputs": [
    {
     "name": "stdout",
     "output_type": "stream",
     "text": [
      "[[3, 1, 2, 8, 7, 9, 4, 1, 8, 9, 8, 8, 6, 2, 7, 7, 6, 4, 5, 5], [7, 8, 1, 4, 1, 1, 4, 5, 4, 6, 5, 4, 2, 2, 6, 8, 4, 2, 4, 2, 1, 6, 8, 8, 2, 6, 4, 5, 2, 4, 8, 4, 5], [5, 7, 4, 7, 3, 2, 6, 2, 6, 3, 1, 4, 2, 2, 7, 8, 2, 2, 7], [8, 6, 3, 7, 5, 1, 3, 1, 1, 7, 2, 3, 2, 8, 1, 6, 5, 9, 7, 6, 6, 3, 7, 5, 2, 3, 9, 5, 9, 7, 8, 3], [11, 2, 7, 10, 5, 7, 6, 9, 11, 8, 6, 8, 1, 6, 11, 10, 5, 7, 5, 3, 5, 10, 1, 6, 5, 4, 3, 1, 4, 2, 6, 11, 6, 9, 3]]\n"
     ]
    },
    {
     "data": {
      "text/plain": [
       "30"
      ]
     },
     "execution_count": 16,
     "metadata": {},
     "output_type": "execute_result"
    }
   ],
   "source": [
    "import numpy as np\n",
    "import pandas as pd\n",
    "import altair as alt\n",
    "\n",
    "def generate_dataset(num_lists=30, min_len=5, max_len=35, min_val=1, max_val=20, trend_start=4, trend_end=19):\n",
    "    # Initialize an empty dataset\n",
    "    dataset = []\n",
    "    \n",
    "    # Generate a linear trend from trend_start to trend_end with some noise\n",
    "    trend = np.linspace(trend_start, trend_end, num=num_lists)\n",
    "    noise = np.random.normal(0, 2, num_lists)  # Adding noise with a small standard deviation\n",
    "    noisy_trend = trend + noise\n",
    "    \n",
    "    # Ensure values stay within the min and max bounds\n",
    "    noisy_trend = np.clip(noisy_trend, min_val, max_val)\n",
    "    \n",
    "    # Generate the lists of ints with lengths varying between min_len and max_len\n",
    "    for avg in noisy_trend:\n",
    "        list_len = np.random.randint(min_len, max_len + 1)\n",
    "        int_list = np.random.randint(min_val, max_val + 1, size=list_len)\n",
    "        \n",
    "        # Adjust the list so that its average is around the desired avg\n",
    "        adjustment_factor = avg / np.mean(int_list)\n",
    "        adjusted_list = np.clip(np.round(int_list * adjustment_factor), min_val, max_val).astype(int)\n",
    "        \n",
    "        dataset.append(adjusted_list.tolist())\n",
    "    \n",
    "    return dataset\n",
    "\n",
    "# Example usage\n",
    "my_dataset = generate_dataset()\n",
    "print(my_dataset[:5])  # Prints the first 5 lists of the generated dataset\n",
    "len(my_dataset)"
   ]
  },
  {
   "cell_type": "code",
   "execution_count": 33,
   "id": "654f3c6f-b39a-4339-b26e-1f6bf4993692",
   "metadata": {},
   "outputs": [
    {
     "data": {
      "text/html": [
       "\n",
       "<style>\n",
       "  #altair-viz-d7129627f4e54f6da1f869d9209b85ac.vega-embed {\n",
       "    width: 100%;\n",
       "    display: flex;\n",
       "  }\n",
       "\n",
       "  #altair-viz-d7129627f4e54f6da1f869d9209b85ac.vega-embed details,\n",
       "  #altair-viz-d7129627f4e54f6da1f869d9209b85ac.vega-embed details summary {\n",
       "    position: relative;\n",
       "  }\n",
       "</style>\n",
       "<div id=\"altair-viz-d7129627f4e54f6da1f869d9209b85ac\"></div>\n",
       "<script type=\"text/javascript\">\n",
       "  var VEGA_DEBUG = (typeof VEGA_DEBUG == \"undefined\") ? {} : VEGA_DEBUG;\n",
       "  (function(spec, embedOpt){\n",
       "    let outputDiv = document.currentScript.previousElementSibling;\n",
       "    if (outputDiv.id !== \"altair-viz-d7129627f4e54f6da1f869d9209b85ac\") {\n",
       "      outputDiv = document.getElementById(\"altair-viz-d7129627f4e54f6da1f869d9209b85ac\");\n",
       "    }\n",
       "    const paths = {\n",
       "      \"vega\": \"https://cdn.jsdelivr.net/npm/vega@5?noext\",\n",
       "      \"vega-lib\": \"https://cdn.jsdelivr.net/npm/vega-lib?noext\",\n",
       "      \"vega-lite\": \"https://cdn.jsdelivr.net/npm/vega-lite@5.20.1?noext\",\n",
       "      \"vega-embed\": \"https://cdn.jsdelivr.net/npm/vega-embed@6?noext\",\n",
       "    };\n",
       "\n",
       "    function maybeLoadScript(lib, version) {\n",
       "      var key = `${lib.replace(\"-\", \"\")}_version`;\n",
       "      return (VEGA_DEBUG[key] == version) ?\n",
       "        Promise.resolve(paths[lib]) :\n",
       "        new Promise(function(resolve, reject) {\n",
       "          var s = document.createElement('script');\n",
       "          document.getElementsByTagName(\"head\")[0].appendChild(s);\n",
       "          s.async = true;\n",
       "          s.onload = () => {\n",
       "            VEGA_DEBUG[key] = version;\n",
       "            return resolve(paths[lib]);\n",
       "          };\n",
       "          s.onerror = () => reject(`Error loading script: ${paths[lib]}`);\n",
       "          s.src = paths[lib];\n",
       "        });\n",
       "    }\n",
       "\n",
       "    function showError(err) {\n",
       "      outputDiv.innerHTML = `<div class=\"error\" style=\"color:red;\">${err}</div>`;\n",
       "      throw err;\n",
       "    }\n",
       "\n",
       "    function displayChart(vegaEmbed) {\n",
       "      vegaEmbed(outputDiv, spec, embedOpt)\n",
       "        .catch(err => showError(`Javascript Error: ${err.message}<br>This usually means there's a typo in your chart specification. See the javascript console for the full traceback.`));\n",
       "    }\n",
       "\n",
       "    if(typeof define === \"function\" && define.amd) {\n",
       "      requirejs.config({paths});\n",
       "      require([\"vega-embed\"], displayChart, err => showError(`Error loading script: ${err.message}`));\n",
       "    } else {\n",
       "      maybeLoadScript(\"vega\", \"5\")\n",
       "        .then(() => maybeLoadScript(\"vega-lite\", \"5.20.1\"))\n",
       "        .then(() => maybeLoadScript(\"vega-embed\", \"6\"))\n",
       "        .catch(showError)\n",
       "        .then(() => displayChart(vegaEmbed));\n",
       "    }\n",
       "  })({\"config\": {\"view\": {\"continuousWidth\": 300, \"continuousHeight\": 300}, \"axis\": {\"grid\": true, \"gridColor\": \"lightgray\", \"gridDash\": [5, 5], \"tickCount\": 5}, \"title\": {\"anchor\": \"middle\", \"color\": \"black\", \"font\": \"Arial\", \"fontSize\": 16}}, \"data\": {\"name\": \"data-6a2701a9041d34b62ada18b053a35bf1\"}, \"mark\": {\"type\": \"line\", \"color\": \"#8023fa\", \"strokeWidth\": 3}, \"encoding\": {\"tooltip\": [{\"field\": \"Day\", \"type\": \"quantitative\"}, {\"field\": \"Value\", \"type\": \"quantitative\"}], \"x\": {\"axis\": {\"labelFontSize\": 12, \"titleFontSize\": 14}, \"field\": \"Day\", \"title\": \"Day\", \"type\": \"ordinal\"}, \"y\": {\"axis\": {\"labelFontSize\": 12, \"titleFontSize\": 14}, \"field\": \"Value\", \"title\": \"Discussion Complexity\", \"type\": \"quantitative\"}}, \"height\": 400, \"title\": \"Average Discussion Complexity Over A Month\", \"width\": 600, \"$schema\": \"https://vega.github.io/schema/vega-lite/v5.20.1.json\", \"datasets\": {\"data-6a2701a9041d34b62ada18b053a35bf1\": [{\"Day\": 1, \"Value\": 5.5}, {\"Day\": 2, \"Value\": 4.333333333333333}, {\"Day\": 3, \"Value\": 4.2105263157894735}, {\"Day\": 4, \"Value\": 4.9375}, {\"Day\": 5, \"Value\": 6.114285714285714}, {\"Day\": 6, \"Value\": 9.473684210526315}, {\"Day\": 7, \"Value\": 6.466666666666667}, {\"Day\": 8, \"Value\": 11.151515151515152}, {\"Day\": 9, \"Value\": 6.785714285714286}, {\"Day\": 10, \"Value\": 6.181818181818182}, {\"Day\": 11, \"Value\": 8.058823529411764}, {\"Day\": 12, \"Value\": 7.833333333333333}, {\"Day\": 13, \"Value\": 12.136363636363637}, {\"Day\": 14, \"Value\": 11.222222222222221}, {\"Day\": 15, \"Value\": 9.225806451612904}, {\"Day\": 16, \"Value\": 12.0}, {\"Day\": 17, \"Value\": 14.88888888888889}, {\"Day\": 18, \"Value\": 12.470588235294118}, {\"Day\": 19, \"Value\": 13.303030303030303}, {\"Day\": 20, \"Value\": 12.473684210526315}, {\"Day\": 21, \"Value\": 12.181818181818182}, {\"Day\": 22, \"Value\": 14.23076923076923}, {\"Day\": 23, \"Value\": 12.153846153846153}, {\"Day\": 24, \"Value\": 15.125}, {\"Day\": 25, \"Value\": 13.606060606060606}, {\"Day\": 26, \"Value\": 13.8}, {\"Day\": 27, \"Value\": 14.75}, {\"Day\": 28, \"Value\": 14.655172413793103}, {\"Day\": 29, \"Value\": 16.625}, {\"Day\": 30, \"Value\": 16.09090909090909}]}}, {\"mode\": \"vega-lite\"});\n",
       "</script>"
      ],
      "text/plain": [
       "alt.Chart(...)"
      ]
     },
     "metadata": {},
     "output_type": "display_data"
    }
   ],
   "source": [
    "import altair as alt\n",
    "import pandas as pd\n",
    "\n",
    "# Prepare the data for Altair\n",
    "data = []\n",
    "for day, values in enumerate(my_dataset):\n",
    "    for value in values:\n",
    "        data.append({\"Day\": day + 1, \"Value\": value})\n",
    "data_df = pd.DataFrame(data)\n",
    "\n",
    "# Calculate the daily averages\n",
    "daily_avg = data_df.groupby('Day')['Value'].mean().reset_index()\n",
    "\n",
    "# Create line chart showing the average trend\n",
    "line = alt.Chart(daily_avg).mark_line(color='#8023fa', strokeWidth=3).encode(\n",
    "    x=alt.X('Day:O', title='Day', axis=alt.Axis(labelFontSize=12, titleFontSize=14)),\n",
    "    y=alt.Y('Value:Q', title='Discussion Complexity', axis=alt.Axis(labelFontSize=12, titleFontSize=14)),\n",
    "    tooltip=['Day', 'Value']\n",
    ").properties(\n",
    "    title='Average Discussion Complexity Over A Month',\n",
    "    width=600,\n",
    "    height=400\n",
    ").configure_title(\n",
    "    fontSize=16,        # Set the title font size\n",
    "    font='Arial',\n",
    "    anchor='middle',    # Center the title\n",
    "    color='black'\n",
    ").configure_axis(\n",
    "    grid=True,          # Add gridlines\n",
    "    gridColor='lightgray',\n",
    "    gridDash=[5, 5],    # Dashed gridlines\n",
    "    tickCount=5,       # Set the number of ticks on the axes\n",
    ")\n",
    "\n",
    "# Display the chart\n",
    "line.display()\n",
    "line.save('average_discussion_complexity.png')\n"
   ]
  },
  {
   "cell_type": "code",
   "execution_count": null,
   "id": "d3acab67-f08a-4b9b-a073-9836cdd638c9",
   "metadata": {},
   "outputs": [],
   "source": []
  }
 ],
 "metadata": {
  "kernelspec": {
   "display_name": "Python [conda env:base] *",
   "language": "python",
   "name": "conda-base-py"
  },
  "language_info": {
   "codemirror_mode": {
    "name": "ipython",
    "version": 3
   },
   "file_extension": ".py",
   "mimetype": "text/x-python",
   "name": "python",
   "nbconvert_exporter": "python",
   "pygments_lexer": "ipython3",
   "version": "3.11.9"
  }
 },
 "nbformat": 4,
 "nbformat_minor": 5
}
